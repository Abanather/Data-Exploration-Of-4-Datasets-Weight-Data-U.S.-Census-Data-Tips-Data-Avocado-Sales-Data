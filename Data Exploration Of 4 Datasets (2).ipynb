{
 "cells": [
  {
   "cell_type": "code",
   "execution_count": null,
   "id": "2b8ace43",
   "metadata": {},
   "outputs": [],
   "source": [
    "#Notes\n",
    "#In this notebook, you will find a compiled workload of 4 different datasets explored. \n",
    "#Through each data set explored we'll be solving some simple data exploration questions to get to know our data better. \n",
    "#Weight Data\n",
    "#US Census Data\n",
    "#Tips Data\n",
    "#Avovado Sales Data\n"
   ]
  },
  {
   "cell_type": "code",
   "execution_count": 26,
   "id": "b0e548bb",
   "metadata": {},
   "outputs": [],
   "source": [
    "import numpy as np\n",
    "import pandas as pd\n",
    "import matplotlib as mpl\n",
    "import matplotlib.pyplot as plt\n",
    "import seaborn as sns\n",
    "import statistics"
   ]
  },
  {
   "cell_type": "code",
   "execution_count": 2,
   "id": "ae374041",
   "metadata": {},
   "outputs": [
    {
     "name": "stdout",
     "output_type": "stream",
     "text": [
      "    Weights\n",
      "0       164\n",
      "1       158\n",
      "2       172\n",
      "3       153\n",
      "4       144\n",
      "5       156\n",
      "6       189\n",
      "7       163\n",
      "8       134\n",
      "9       159\n",
      "10      143\n",
      "11      176\n",
      "12      177\n",
      "13      162\n",
      "14      141\n",
      "15      151\n",
      "16      182\n",
      "17      185\n",
      "18      171\n",
      "19      152\n"
     ]
    }
   ],
   "source": [
    "#1.1 Import the data from the file weights.tsv into a Pandas Series object in Python.\n",
    "df = pd.read_csv(r'C:\\Users\\Abana\\OneDrive\\Documents\\ADS\\ADS500B\\Mod3\\weights.csv')\n",
    "print(df)"
   ]
  },
  {
   "cell_type": "code",
   "execution_count": 3,
   "id": "589a5293",
   "metadata": {},
   "outputs": [
    {
     "name": "stdout",
     "output_type": "stream",
     "text": [
      "The toal number of kilograms comes to:      Weights\n",
      "0     74.39\n",
      "1     71.67\n",
      "2     78.02\n",
      "3     69.40\n",
      "4     65.32\n",
      "5     70.76\n",
      "6     85.73\n",
      "7     73.94\n",
      "8     60.78\n",
      "9     72.12\n",
      "10    64.86\n",
      "11    79.83\n",
      "12    80.29\n",
      "13    73.48\n",
      "14    63.96\n",
      "15    68.49\n",
      "16    82.55\n",
      "17    83.92\n",
      "18    77.57\n",
      "19    68.95\n"
     ]
    }
   ],
   "source": [
    "#1.2 Create a new series object with weights converted to kilograms from pounds (1\n",
    "#pound = 0.453592 kilograms). Round the results to two decimal places.\n",
    "\n",
    "kg = (df) / 2.2046\n",
    "print(\"The toal number of kilograms comes to: \",round(kg, 2))\n"
   ]
  },
  {
   "cell_type": "code",
   "execution_count": 4,
   "id": "291fa36a",
   "metadata": {},
   "outputs": [
    {
     "name": "stdout",
     "output_type": "stream",
     "text": [
      "Weights    161.6\n",
      "dtype: float64\n",
      "Weights    160.5\n",
      "dtype: float64\n",
      "Weights    15.449067\n",
      "dtype: float64\n"
     ]
    }
   ],
   "source": [
    "#1.3. Find the mean, median, and standard deviation of both series objects usingPandas functions. \n",
    "#weight in pounds\n",
    "print(df.mean())\n",
    "print(df.median())\n",
    "print(df.std())\n",
    "\n"
   ]
  },
  {
   "cell_type": "code",
   "execution_count": 5,
   "id": "51080457",
   "metadata": {},
   "outputs": [
    {
     "name": "stdout",
     "output_type": "stream",
     "text": [
      "Weights    73.301279\n",
      "dtype: float64\n",
      "Weights    72.802322\n",
      "dtype: float64\n",
      "Weights    7.007651\n",
      "dtype: float64\n"
     ]
    }
   ],
   "source": [
    "#1.3. Find the mean, median, and standard deviation of both series objects usingPandas functions. \n",
    "#weight in kg\n",
    "print(kg.mean())\n",
    "print(kg.median())\n",
    "print(kg.std())\n",
    "\n"
   ]
  },
  {
   "cell_type": "code",
   "execution_count": 6,
   "id": "75b83afa",
   "metadata": {},
   "outputs": [
    {
     "data": {
      "image/png": "[encoded data removed]",
      "text/plain": [
       "<Figure size 640x480 with 1 Axes>"
      ]
     },
     "metadata": {},
     "output_type": "display_data"
    }
   ],
   "source": [
    "#1.4. Plot a histogram of weight (in kilograms) using matplotlib library with 10 bins.\n",
    "plt.style.use('default')\n",
    "plt.hist(kg, bins=10)\n",
    "plt.title('weights')\n",
    "plt.xlabel('kg')\n",
    "plt.tight_layout()"
   ]
  },
  {
   "cell_type": "code",
   "execution_count": 5,
   "id": "cc136ed6",
   "metadata": {
    "scrolled": true
   },
   "outputs": [
    {
     "name": "stdout",
     "output_type": "stream",
     "text": [
      "        CRIM    ZN   NDUS  CHAS    NOX     RM   AGE     DIS  RAD  TAX  \\\n",
      "0    0.00632  18.0   2.31     0  0.538  6.575  65.2  4.0900    1  296   \n",
      "1    0.02731   0.0   7.07     0  0.469  6.421  78.9  4.9671    2  242   \n",
      "2    0.02729   0.0   7.07     0  0.469  7.185  61.1  4.9671    2  242   \n",
      "3    0.03237   0.0   2.18     0  0.458  6.998  45.8  6.0622    3  222   \n",
      "4    0.06905   0.0   2.18     0  0.458  7.147  54.2  6.0622    3  222   \n",
      "..       ...   ...    ...   ...    ...    ...   ...     ...  ...  ...   \n",
      "501  0.06263   0.0  11.93     0  0.573  6.593  69.1  2.4786    1  273   \n",
      "502  0.04527   0.0  11.93     0  0.573  6.120  76.7  2.2875    1  273   \n",
      "503  0.06076   0.0  11.93     0  0.573  6.976  91.0  2.1675    1  273   \n",
      "504  0.10959   0.0  11.93     0  0.573  6.794  89.3  2.3889    1  273   \n",
      "505  0.04741   0.0  11.93     0  0.573  6.030  80.8  2.5050    1  273   \n",
      "\n",
      "     PTRATIO  LSTAT  MEDV  \n",
      "0       15.3   4.98  24.0  \n",
      "1       17.8   9.14  21.6  \n",
      "2       17.8   4.03  34.7  \n",
      "3       18.7   2.94  33.4  \n",
      "4       18.7   5.33  36.2  \n",
      "..       ...    ...   ...  \n",
      "501     21.0   9.67  22.4  \n",
      "502     21.0   9.08  20.6  \n",
      "503     21.0   5.64  23.9  \n",
      "504     21.0   6.48  22.0  \n",
      "505     21.0   7.88  11.9  \n",
      "\n",
      "[506 rows x 13 columns]\n"
     ]
    },
    {
     "data": {
      "text/html": [
       "<div>\n",
       "<style scoped>\n",
       "    .dataframe tbody tr th:only-of-type {\n",
       "        vertical-align: middle;\n",
       "    }\n",
       "\n",
       "    .dataframe tbody tr th {\n",
       "        vertical-align: top;\n",
       "    }\n",
       "\n",
       "    .dataframe thead th {\n",
       "        text-align: right;\n",
       "    }\n",
       "</style>\n",
       "<table border=\"1\" class=\"dataframe\">\n",
       "  <thead>\n",
       "    <tr style=\"text-align: right;\">\n",
       "      <th></th>\n",
       "      <th>CRIM</th>\n",
       "      <th>ZN</th>\n",
       "      <th>NDUS</th>\n",
       "      <th>CHAS</th>\n",
       "      <th>NOX</th>\n",
       "      <th>RM</th>\n",
       "      <th>AGE</th>\n",
       "      <th>DIS</th>\n",
       "      <th>RAD</th>\n",
       "      <th>TAX</th>\n",
       "      <th>PTRATIO</th>\n",
       "      <th>LSTAT</th>\n",
       "      <th>MEDV</th>\n",
       "    </tr>\n",
       "  </thead>\n",
       "  <tbody>\n",
       "    <tr>\n",
       "      <th>0</th>\n",
       "      <td>0.00632</td>\n",
       "      <td>18.0</td>\n",
       "      <td>2.31</td>\n",
       "      <td>0</td>\n",
       "      <td>0.538</td>\n",
       "      <td>6.575</td>\n",
       "      <td>65.2</td>\n",
       "      <td>4.0900</td>\n",
       "      <td>1</td>\n",
       "      <td>296</td>\n",
       "      <td>15.3</td>\n",
       "      <td>4.98</td>\n",
       "      <td>24.0</td>\n",
       "    </tr>\n",
       "    <tr>\n",
       "      <th>1</th>\n",
       "      <td>0.02731</td>\n",
       "      <td>0.0</td>\n",
       "      <td>7.07</td>\n",
       "      <td>0</td>\n",
       "      <td>0.469</td>\n",
       "      <td>6.421</td>\n",
       "      <td>78.9</td>\n",
       "      <td>4.9671</td>\n",
       "      <td>2</td>\n",
       "      <td>242</td>\n",
       "      <td>17.8</td>\n",
       "      <td>9.14</td>\n",
       "      <td>21.6</td>\n",
       "    </tr>\n",
       "    <tr>\n",
       "      <th>2</th>\n",
       "      <td>0.02729</td>\n",
       "      <td>0.0</td>\n",
       "      <td>7.07</td>\n",
       "      <td>0</td>\n",
       "      <td>0.469</td>\n",
       "      <td>7.185</td>\n",
       "      <td>61.1</td>\n",
       "      <td>4.9671</td>\n",
       "      <td>2</td>\n",
       "      <td>242</td>\n",
       "      <td>17.8</td>\n",
       "      <td>4.03</td>\n",
       "      <td>34.7</td>\n",
       "    </tr>\n",
       "    <tr>\n",
       "      <th>3</th>\n",
       "      <td>0.03237</td>\n",
       "      <td>0.0</td>\n",
       "      <td>2.18</td>\n",
       "      <td>0</td>\n",
       "      <td>0.458</td>\n",
       "      <td>6.998</td>\n",
       "      <td>45.8</td>\n",
       "      <td>6.0622</td>\n",
       "      <td>3</td>\n",
       "      <td>222</td>\n",
       "      <td>18.7</td>\n",
       "      <td>2.94</td>\n",
       "      <td>33.4</td>\n",
       "    </tr>\n",
       "    <tr>\n",
       "      <th>4</th>\n",
       "      <td>0.06905</td>\n",
       "      <td>0.0</td>\n",
       "      <td>2.18</td>\n",
       "      <td>0</td>\n",
       "      <td>0.458</td>\n",
       "      <td>7.147</td>\n",
       "      <td>54.2</td>\n",
       "      <td>6.0622</td>\n",
       "      <td>3</td>\n",
       "      <td>222</td>\n",
       "      <td>18.7</td>\n",
       "      <td>5.33</td>\n",
       "      <td>36.2</td>\n",
       "    </tr>\n",
       "  </tbody>\n",
       "</table>\n",
       "</div>"
      ],
      "text/plain": [
       "      CRIM    ZN  NDUS  CHAS    NOX     RM   AGE     DIS  RAD  TAX  PTRATIO  \\\n",
       "0  0.00632  18.0  2.31     0  0.538  6.575  65.2  4.0900    1  296     15.3   \n",
       "1  0.02731   0.0  7.07     0  0.469  6.421  78.9  4.9671    2  242     17.8   \n",
       "2  0.02729   0.0  7.07     0  0.469  7.185  61.1  4.9671    2  242     17.8   \n",
       "3  0.03237   0.0  2.18     0  0.458  6.998  45.8  6.0622    3  222     18.7   \n",
       "4  0.06905   0.0  2.18     0  0.458  7.147  54.2  6.0622    3  222     18.7   \n",
       "\n",
       "   LSTAT  MEDV  \n",
       "0   4.98  24.0  \n",
       "1   9.14  21.6  \n",
       "2   4.03  34.7  \n",
       "3   2.94  33.4  \n",
       "4   5.33  36.2  "
      ]
     },
     "execution_count": 5,
     "metadata": {},
     "output_type": "execute_result"
    }
   ],
   "source": [
    "#2.1. Import the dataset “boston.csv” into a Pandas dataframe and obtain the number of rows and columns for the dataframe. \n",
    "df = pd.read_csv(r'C:\\Users\\Abana\\OneDrive\\Documents\\ADS\\ADS500B\\Mod3\\boston.csv')\n",
    "print (df)\n",
    "df.head()"
   ]
  },
  {
   "cell_type": "code",
   "execution_count": 8,
   "id": "c953ec27",
   "metadata": {},
   "outputs": [
    {
     "data": {
      "text/plain": [
       "20.1"
      ]
     },
     "execution_count": 8,
     "metadata": {},
     "output_type": "execute_result"
    }
   ],
   "source": [
    "#2.2. What is the owner-occupied home value (MEDV) for the lowest nitric oxide concentration (NOX) from the dataframe?\n",
    "df.loc[df['NOX'].idxmin()]['MEDV']"
   ]
  },
  {
   "cell_type": "code",
   "execution_count": 9,
   "id": "dac8ab52",
   "metadata": {},
   "outputs": [
    {
     "data": {
      "image/png": "[encoded data removed]",
      "text/plain": [
       "<Figure size 600x800 with 1 Axes>"
      ]
     },
     "metadata": {},
     "output_type": "display_data"
    }
   ],
   "source": [
    "#2.3part1 Create a boxplot of per capita crime rate (CRIM) using Matplotlib. Obtain the interquartile\n",
    "#range for crime rate (CRIM) using Pandas functions.\n",
    "fig = plt.figure(figsize = (6,8))\n",
    "plt.boxplot(df.CRIM)\n",
    "plt.show()"
   ]
  },
  {
   "cell_type": "code",
   "execution_count": 10,
   "id": "91c487b5",
   "metadata": {},
   "outputs": [
    {
     "name": "stdout",
     "output_type": "stream",
     "text": [
      "3.6770825\n",
      "0.08204499999999999\n",
      "3.5950375\n"
     ]
    }
   ],
   "source": [
    "#2.3part2\n",
    "df.describe()\n",
    "Q3 = df['CRIM'].quantile(0.75)\n",
    "Q1 = df['CRIM'].quantile(0.25)\n",
    "IQR = Q3 - Q1\n",
    "print(Q3)\n",
    "print(Q1)\n",
    "print(IQR)"
   ]
  },
  {
   "cell_type": "code",
   "execution_count": 11,
   "id": "46b57997",
   "metadata": {
    "scrolled": true
   },
   "outputs": [
    {
     "name": "stdout",
     "output_type": "stream",
     "text": [
      "Average age 68.57490118577076\n",
      "Average age for crime rate outliers 94.23333333333335\n"
     ]
    }
   ],
   "source": [
    "#2.4 part1\n",
    "#Subset all columns of the dataframe for rows with outliers of crime rate into a new\n",
    "#dataframe. Compare the mean of AGE between the two dataframes with respect\n",
    "#to crime rate. \n",
    "\n",
    "Crime_outliers_df = df[df['CRIM'] > (1.5 *IQR + Q3)]\n",
    "print('Average age' , df['AGE'].mean())\n",
    "print('Average age for crime rate outliers' , Crime_outliers_df['AGE'].mean())\n"
   ]
  },
  {
   "cell_type": "code",
   "execution_count": 12,
   "id": "16ba0345",
   "metadata": {},
   "outputs": [],
   "source": [
    "#2.4 part2\n",
    "#what do you interpret?(Hint: Outliers exist 1.5 times of interquartile\n",
    "#range above third quartile and below first quartile)\n",
    "#interpretaion: It appears that the average age that crime rates have happened are in older neighborhoods. However there is still more research left to do. "
   ]
  },
  {
   "cell_type": "code",
   "execution_count": 13,
   "id": "b144e230",
   "metadata": {},
   "outputs": [
    {
     "data": {
      "image/png": "[encoded data removed]",
      "text/plain": [
       "<Figure size 800x600 with 1 Axes>"
      ]
     },
     "metadata": {},
     "output_type": "display_data"
    },
    {
     "name": "stdout",
     "output_type": "stream",
     "text": [
      "-0.7692301132258278\n"
     ]
    }
   ],
   "source": [
    "#2.5 part1\n",
    "#Create scatterplot between distances to employment centers (DIS) and nitric\n",
    "#oxide levels (NOX).Interpret their relation.\n",
    "\n",
    "fig = plt.figure(figsize = (8,6))\n",
    "plt.scatter(df['DIS'], df['NOX'], alpha=0.5)\n",
    "plt.xlabel('Weighted distances to five Boston employment centres')\n",
    "plt.ylabel('Nitric oxide levels)')\n",
    "plt.title('Scatterplot between distances DIS and NOX')\n",
    "plt.show()\n",
    "\n",
    "#Obtain correlation index between the two columns \n",
    "column_1 = df[\"DIS\"]\n",
    "column_2 = df[\"NOX\"]\n",
    "correlation = column_1.corr(column_2)\n",
    "print(correlation)"
   ]
  },
  {
   "cell_type": "code",
   "execution_count": 14,
   "id": "0d27a96d",
   "metadata": {
    "scrolled": true
   },
   "outputs": [],
   "source": [
    "#2.5 part2\n",
    "#interpret their relation.\n",
    "#interpretaion: Based on the scatter plot and the correlation we can say that there is a strong negative correlation between these two variables.\n",
    "#In conclusion the closer the center the higher oxide levels are."
   ]
  },
  {
   "cell_type": "code",
   "execution_count": 15,
   "id": "ceb7de61",
   "metadata": {},
   "outputs": [
    {
     "data": {
      "image/png": "[encoded data removed]",
      "text/plain": [
       "<Figure size 800x600 with 1 Axes>"
      ]
     },
     "metadata": {},
     "output_type": "display_data"
    },
    {
     "name": "stdout",
     "output_type": "stream",
     "text": [
      "0.9102281885331845\n"
     ]
    }
   ],
   "source": [
    "#2.6 part1\n",
    "#Similarly, create a scatterplot between highway accessibility index (RAD) and\n",
    "#property tax rate (TAX). Obtain correlation index, compare it to the scatter-plot,\n",
    "#and interpret the relation between RAD and TAX.\n",
    "fig = plt.figure(figsize = (8,6))\n",
    "plt.scatter(df['RAD'], df['TAX'], alpha=0.5)\n",
    "plt.xlabel('Accessibility index to radial highways')\n",
    "plt.ylabel('Property-tax rate per $10,000')\n",
    "plt.title('Scatterplot between RAD and TAX')\n",
    "plt.show()\n",
    "#Obtain correlation index\n",
    "column_1 = df[\"RAD\"]\n",
    "column_2 = df[\"TAX\"]\n",
    "correlation = column_1.corr(column_2)\n",
    "print(correlation)"
   ]
  },
  {
   "cell_type": "code",
   "execution_count": 16,
   "id": "e00a9773",
   "metadata": {},
   "outputs": [
    {
     "data": {
      "text/html": [
       "<div>\n",
       "<style scoped>\n",
       "    .dataframe tbody tr th:only-of-type {\n",
       "        vertical-align: middle;\n",
       "    }\n",
       "\n",
       "    .dataframe tbody tr th {\n",
       "        vertical-align: top;\n",
       "    }\n",
       "\n",
       "    .dataframe thead th {\n",
       "        text-align: right;\n",
       "    }\n",
       "</style>\n",
       "<table border=\"1\" class=\"dataframe\">\n",
       "  <thead>\n",
       "    <tr style=\"text-align: right;\">\n",
       "      <th></th>\n",
       "      <th>CRIM</th>\n",
       "      <th>ZN</th>\n",
       "      <th>NDUS</th>\n",
       "      <th>CHAS</th>\n",
       "      <th>NOX</th>\n",
       "      <th>RM</th>\n",
       "      <th>AGE</th>\n",
       "      <th>DIS</th>\n",
       "      <th>RAD</th>\n",
       "      <th>TAX</th>\n",
       "      <th>PTRATIO</th>\n",
       "      <th>LSTAT</th>\n",
       "      <th>MEDV</th>\n",
       "    </tr>\n",
       "  </thead>\n",
       "  <tbody>\n",
       "    <tr>\n",
       "      <th>0</th>\n",
       "      <td>0.00632</td>\n",
       "      <td>18.0</td>\n",
       "      <td>2.31</td>\n",
       "      <td>0</td>\n",
       "      <td>0.538</td>\n",
       "      <td>6.575</td>\n",
       "      <td>65.2</td>\n",
       "      <td>4.0900</td>\n",
       "      <td>1</td>\n",
       "      <td>296</td>\n",
       "      <td>15.3</td>\n",
       "      <td>4.98</td>\n",
       "      <td>24.0</td>\n",
       "    </tr>\n",
       "    <tr>\n",
       "      <th>1</th>\n",
       "      <td>0.02731</td>\n",
       "      <td>0.0</td>\n",
       "      <td>7.07</td>\n",
       "      <td>0</td>\n",
       "      <td>0.469</td>\n",
       "      <td>6.421</td>\n",
       "      <td>78.9</td>\n",
       "      <td>4.9671</td>\n",
       "      <td>2</td>\n",
       "      <td>242</td>\n",
       "      <td>17.8</td>\n",
       "      <td>9.14</td>\n",
       "      <td>21.6</td>\n",
       "    </tr>\n",
       "    <tr>\n",
       "      <th>2</th>\n",
       "      <td>0.02729</td>\n",
       "      <td>0.0</td>\n",
       "      <td>7.07</td>\n",
       "      <td>0</td>\n",
       "      <td>0.469</td>\n",
       "      <td>7.185</td>\n",
       "      <td>61.1</td>\n",
       "      <td>4.9671</td>\n",
       "      <td>2</td>\n",
       "      <td>242</td>\n",
       "      <td>17.8</td>\n",
       "      <td>4.03</td>\n",
       "      <td>34.7</td>\n",
       "    </tr>\n",
       "    <tr>\n",
       "      <th>3</th>\n",
       "      <td>0.03237</td>\n",
       "      <td>0.0</td>\n",
       "      <td>2.18</td>\n",
       "      <td>0</td>\n",
       "      <td>0.458</td>\n",
       "      <td>6.998</td>\n",
       "      <td>45.8</td>\n",
       "      <td>6.0622</td>\n",
       "      <td>3</td>\n",
       "      <td>222</td>\n",
       "      <td>18.7</td>\n",
       "      <td>2.94</td>\n",
       "      <td>33.4</td>\n",
       "    </tr>\n",
       "    <tr>\n",
       "      <th>4</th>\n",
       "      <td>0.06905</td>\n",
       "      <td>0.0</td>\n",
       "      <td>2.18</td>\n",
       "      <td>0</td>\n",
       "      <td>0.458</td>\n",
       "      <td>7.147</td>\n",
       "      <td>54.2</td>\n",
       "      <td>6.0622</td>\n",
       "      <td>3</td>\n",
       "      <td>222</td>\n",
       "      <td>18.7</td>\n",
       "      <td>5.33</td>\n",
       "      <td>36.2</td>\n",
       "    </tr>\n",
       "    <tr>\n",
       "      <th>...</th>\n",
       "      <td>...</td>\n",
       "      <td>...</td>\n",
       "      <td>...</td>\n",
       "      <td>...</td>\n",
       "      <td>...</td>\n",
       "      <td>...</td>\n",
       "      <td>...</td>\n",
       "      <td>...</td>\n",
       "      <td>...</td>\n",
       "      <td>...</td>\n",
       "      <td>...</td>\n",
       "      <td>...</td>\n",
       "      <td>...</td>\n",
       "    </tr>\n",
       "    <tr>\n",
       "      <th>501</th>\n",
       "      <td>0.06263</td>\n",
       "      <td>0.0</td>\n",
       "      <td>11.93</td>\n",
       "      <td>0</td>\n",
       "      <td>0.573</td>\n",
       "      <td>6.593</td>\n",
       "      <td>69.1</td>\n",
       "      <td>2.4786</td>\n",
       "      <td>1</td>\n",
       "      <td>273</td>\n",
       "      <td>21.0</td>\n",
       "      <td>9.67</td>\n",
       "      <td>22.4</td>\n",
       "    </tr>\n",
       "    <tr>\n",
       "      <th>502</th>\n",
       "      <td>0.04527</td>\n",
       "      <td>0.0</td>\n",
       "      <td>11.93</td>\n",
       "      <td>0</td>\n",
       "      <td>0.573</td>\n",
       "      <td>6.120</td>\n",
       "      <td>76.7</td>\n",
       "      <td>2.2875</td>\n",
       "      <td>1</td>\n",
       "      <td>273</td>\n",
       "      <td>21.0</td>\n",
       "      <td>9.08</td>\n",
       "      <td>20.6</td>\n",
       "    </tr>\n",
       "    <tr>\n",
       "      <th>503</th>\n",
       "      <td>0.06076</td>\n",
       "      <td>0.0</td>\n",
       "      <td>11.93</td>\n",
       "      <td>0</td>\n",
       "      <td>0.573</td>\n",
       "      <td>6.976</td>\n",
       "      <td>91.0</td>\n",
       "      <td>2.1675</td>\n",
       "      <td>1</td>\n",
       "      <td>273</td>\n",
       "      <td>21.0</td>\n",
       "      <td>5.64</td>\n",
       "      <td>23.9</td>\n",
       "    </tr>\n",
       "    <tr>\n",
       "      <th>504</th>\n",
       "      <td>0.10959</td>\n",
       "      <td>0.0</td>\n",
       "      <td>11.93</td>\n",
       "      <td>0</td>\n",
       "      <td>0.573</td>\n",
       "      <td>6.794</td>\n",
       "      <td>89.3</td>\n",
       "      <td>2.3889</td>\n",
       "      <td>1</td>\n",
       "      <td>273</td>\n",
       "      <td>21.0</td>\n",
       "      <td>6.48</td>\n",
       "      <td>22.0</td>\n",
       "    </tr>\n",
       "    <tr>\n",
       "      <th>505</th>\n",
       "      <td>0.04741</td>\n",
       "      <td>0.0</td>\n",
       "      <td>11.93</td>\n",
       "      <td>0</td>\n",
       "      <td>0.573</td>\n",
       "      <td>6.030</td>\n",
       "      <td>80.8</td>\n",
       "      <td>2.5050</td>\n",
       "      <td>1</td>\n",
       "      <td>273</td>\n",
       "      <td>21.0</td>\n",
       "      <td>7.88</td>\n",
       "      <td>11.9</td>\n",
       "    </tr>\n",
       "  </tbody>\n",
       "</table>\n",
       "<p>369 rows × 13 columns</p>\n",
       "</div>"
      ],
      "text/plain": [
       "        CRIM    ZN   NDUS  CHAS    NOX     RM   AGE     DIS  RAD  TAX  \\\n",
       "0    0.00632  18.0   2.31     0  0.538  6.575  65.2  4.0900    1  296   \n",
       "1    0.02731   0.0   7.07     0  0.469  6.421  78.9  4.9671    2  242   \n",
       "2    0.02729   0.0   7.07     0  0.469  7.185  61.1  4.9671    2  242   \n",
       "3    0.03237   0.0   2.18     0  0.458  6.998  45.8  6.0622    3  222   \n",
       "4    0.06905   0.0   2.18     0  0.458  7.147  54.2  6.0622    3  222   \n",
       "..       ...   ...    ...   ...    ...    ...   ...     ...  ...  ...   \n",
       "501  0.06263   0.0  11.93     0  0.573  6.593  69.1  2.4786    1  273   \n",
       "502  0.04527   0.0  11.93     0  0.573  6.120  76.7  2.2875    1  273   \n",
       "503  0.06076   0.0  11.93     0  0.573  6.976  91.0  2.1675    1  273   \n",
       "504  0.10959   0.0  11.93     0  0.573  6.794  89.3  2.3889    1  273   \n",
       "505  0.04741   0.0  11.93     0  0.573  6.030  80.8  2.5050    1  273   \n",
       "\n",
       "     PTRATIO  LSTAT  MEDV  \n",
       "0       15.3   4.98  24.0  \n",
       "1       17.8   9.14  21.6  \n",
       "2       17.8   4.03  34.7  \n",
       "3       18.7   2.94  33.4  \n",
       "4       18.7   5.33  36.2  \n",
       "..       ...    ...   ...  \n",
       "501     21.0   9.67  22.4  \n",
       "502     21.0   9.08  20.6  \n",
       "503     21.0   5.64  23.9  \n",
       "504     21.0   6.48  22.0  \n",
       "505     21.0   7.88  11.9  \n",
       "\n",
       "[369 rows x 13 columns]"
      ]
     },
     "execution_count": 16,
     "metadata": {},
     "output_type": "execute_result"
    }
   ],
   "source": [
    "#2.6 part2\n",
    "#Correlation was strong, however lets see what would happen if we take the outliers out. \n",
    "tax_subset_df = df[df['TAX'] < 600]\n",
    "tax_subset_df "
   ]
  },
  {
   "cell_type": "code",
   "execution_count": 17,
   "id": "b5e77468",
   "metadata": {},
   "outputs": [
    {
     "data": {
      "image/png": "[encoded data removed]",
      "text/plain": [
       "<Figure size 800x600 with 1 Axes>"
      ]
     },
     "metadata": {},
     "output_type": "display_data"
    }
   ],
   "source": [
    "# scatterplot between RAD and TAX after removing outliers\n",
    "fig = plt.figure(figsize = (8,6))\n",
    "plt.scatter(tax_subset_df['RAD'],tax_subset_df['TAX'], alpha=0.5)\n",
    "plt.xlabel('Accessibility index to radial highways')\n",
    "plt.ylabel('Property-tax rate per $10,000')\n",
    "plt.title('Scatterplot between RAD and TAX excluding outliers')\n",
    "plt.show()"
   ]
  },
  {
   "cell_type": "code",
   "execution_count": 18,
   "id": "12371424",
   "metadata": {},
   "outputs": [
    {
     "data": {
      "text/plain": [
       "0.24975731331429218"
      ]
     },
     "execution_count": 18,
     "metadata": {},
     "output_type": "execute_result"
    }
   ],
   "source": [
    "#Correlation test after removing outliers\n",
    "tax_subset_df['RAD'].corr(tax_subset_df['TAX'])"
   ]
  },
  {
   "cell_type": "code",
   "execution_count": 19,
   "id": "76e966c3",
   "metadata": {},
   "outputs": [],
   "source": [
    "#interpretaion: Based on the correlation and removing outliers, it is safe to say this is a negative postive correlation between these two variables."
   ]
  },
  {
   "cell_type": "code",
   "execution_count": 3,
   "id": "b5f3429f",
   "metadata": {},
   "outputs": [
    {
     "name": "stdout",
     "output_type": "stream",
     "text": [
      "     total_bill   tip     sex smoker   day    time  size\n",
      "0         16.99  1.01  Female     No   Sun  Dinner     2\n",
      "1         10.34  1.66    Male     No   Sun  Dinner     3\n",
      "2         21.01  3.50    Male     No   Sun  Dinner     3\n",
      "3         23.68  3.31    Male     No   Sun  Dinner     2\n",
      "4         24.59  3.61  Female     No   Sun  Dinner     4\n",
      "..          ...   ...     ...    ...   ...     ...   ...\n",
      "239       29.03  5.92    Male     No   Sat  Dinner     3\n",
      "240       27.18  2.00  Female    Yes   Sat  Dinner     2\n",
      "241       22.67  2.00    Male    Yes   Sat  Dinner     2\n",
      "242       17.82  1.75    Male     No   Sat  Dinner     2\n",
      "243       18.78  3.00  Female     No  Thur  Dinner     2\n",
      "\n",
      "[244 rows x 7 columns]\n"
     ]
    }
   ],
   "source": [
    "tips_df = sns.load_dataset('tips')\n",
    "#tips_df.head()\n",
    "print(tips_df)"
   ]
  },
  {
   "cell_type": "code",
   "execution_count": 4,
   "id": "a1666d2e",
   "metadata": {},
   "outputs": [
    {
     "data": {
      "text/html": [
       "<div>\n",
       "<style scoped>\n",
       "    .dataframe tbody tr th:only-of-type {\n",
       "        vertical-align: middle;\n",
       "    }\n",
       "\n",
       "    .dataframe tbody tr th {\n",
       "        vertical-align: top;\n",
       "    }\n",
       "\n",
       "    .dataframe thead th {\n",
       "        text-align: right;\n",
       "    }\n",
       "</style>\n",
       "<table border=\"1\" class=\"dataframe\">\n",
       "  <thead>\n",
       "    <tr style=\"text-align: right;\">\n",
       "      <th></th>\n",
       "      <th>total_bill</th>\n",
       "      <th>tip</th>\n",
       "      <th>sex</th>\n",
       "      <th>smoker</th>\n",
       "      <th>day</th>\n",
       "      <th>time</th>\n",
       "      <th>size</th>\n",
       "      <th>tip_percent</th>\n",
       "    </tr>\n",
       "  </thead>\n",
       "  <tbody>\n",
       "    <tr>\n",
       "      <th>0</th>\n",
       "      <td>16.99</td>\n",
       "      <td>1.01</td>\n",
       "      <td>Female</td>\n",
       "      <td>No</td>\n",
       "      <td>Sun</td>\n",
       "      <td>Dinner</td>\n",
       "      <td>2</td>\n",
       "      <td>5.94</td>\n",
       "    </tr>\n",
       "    <tr>\n",
       "      <th>1</th>\n",
       "      <td>10.34</td>\n",
       "      <td>1.66</td>\n",
       "      <td>Male</td>\n",
       "      <td>No</td>\n",
       "      <td>Sun</td>\n",
       "      <td>Dinner</td>\n",
       "      <td>3</td>\n",
       "      <td>16.05</td>\n",
       "    </tr>\n",
       "    <tr>\n",
       "      <th>2</th>\n",
       "      <td>21.01</td>\n",
       "      <td>3.50</td>\n",
       "      <td>Male</td>\n",
       "      <td>No</td>\n",
       "      <td>Sun</td>\n",
       "      <td>Dinner</td>\n",
       "      <td>3</td>\n",
       "      <td>16.66</td>\n",
       "    </tr>\n",
       "    <tr>\n",
       "      <th>3</th>\n",
       "      <td>23.68</td>\n",
       "      <td>3.31</td>\n",
       "      <td>Male</td>\n",
       "      <td>No</td>\n",
       "      <td>Sun</td>\n",
       "      <td>Dinner</td>\n",
       "      <td>2</td>\n",
       "      <td>13.98</td>\n",
       "    </tr>\n",
       "    <tr>\n",
       "      <th>4</th>\n",
       "      <td>24.59</td>\n",
       "      <td>3.61</td>\n",
       "      <td>Female</td>\n",
       "      <td>No</td>\n",
       "      <td>Sun</td>\n",
       "      <td>Dinner</td>\n",
       "      <td>4</td>\n",
       "      <td>14.68</td>\n",
       "    </tr>\n",
       "  </tbody>\n",
       "</table>\n",
       "</div>"
      ],
      "text/plain": [
       "   total_bill   tip     sex smoker  day    time  size  tip_percent\n",
       "0       16.99  1.01  Female     No  Sun  Dinner     2         5.94\n",
       "1       10.34  1.66    Male     No  Sun  Dinner     3        16.05\n",
       "2       21.01  3.50    Male     No  Sun  Dinner     3        16.66\n",
       "3       23.68  3.31    Male     No  Sun  Dinner     2        13.98\n",
       "4       24.59  3.61  Female     No  Sun  Dinner     4        14.68"
      ]
     },
     "execution_count": 4,
     "metadata": {},
     "output_type": "execute_result"
    }
   ],
   "source": [
    "#3.1 part 1\n",
    "#Calculate percentage of tip amounts for bill totals, rounded to two decimal places\n",
    "#and create a new column “tip_percent” in the same dataframe.\n",
    "tips_df['tip_percent'] = round((tips_df['tip']*100)/tips_df['total_bill'],2)\n",
    "tips_df.head()"
   ]
  },
  {
   "cell_type": "code",
   "execution_count": 22,
   "id": "713f7d5f",
   "metadata": {},
   "outputs": [
    {
     "data": {
      "text/plain": [
       "0       Sun\n",
       "1       Sun\n",
       "2       Sun\n",
       "3       Sun\n",
       "4       Sun\n",
       "       ... \n",
       "239     Sat\n",
       "240     Sat\n",
       "241     Sat\n",
       "242     Sat\n",
       "243    Thur\n",
       "Name: day, Length: 244, dtype: category\n",
       "Categories (4, object): ['Thur', 'Fri', 'Sat', 'Sun']"
      ]
     },
     "execution_count": 22,
     "metadata": {},
     "output_type": "execute_result"
    }
   ],
   "source": [
    "#3.2 part 1\n",
    "#For what days in the week do we have the data, and which day has the highest bill mean?\n",
    "tips_df.get(\"day\")\n",
    "#interpretaion: It appears that we have the data thursday- Sunday"
   ]
  },
  {
   "cell_type": "code",
   "execution_count": 8,
   "id": "d5eadbfa",
   "metadata": {},
   "outputs": [
    {
     "data": {
      "text/html": [
       "<div>\n",
       "<style scoped>\n",
       "    .dataframe tbody tr th:only-of-type {\n",
       "        vertical-align: middle;\n",
       "    }\n",
       "\n",
       "    .dataframe tbody tr th {\n",
       "        vertical-align: top;\n",
       "    }\n",
       "\n",
       "    .dataframe thead th {\n",
       "        text-align: right;\n",
       "    }\n",
       "</style>\n",
       "<table border=\"1\" class=\"dataframe\">\n",
       "  <thead>\n",
       "    <tr style=\"text-align: right;\">\n",
       "      <th></th>\n",
       "      <th>day</th>\n",
       "      <th>total_bill</th>\n",
       "    </tr>\n",
       "  </thead>\n",
       "  <tbody>\n",
       "    <tr>\n",
       "      <th>0</th>\n",
       "      <td>Thur</td>\n",
       "      <td>17.682742</td>\n",
       "    </tr>\n",
       "    <tr>\n",
       "      <th>1</th>\n",
       "      <td>Fri</td>\n",
       "      <td>17.151579</td>\n",
       "    </tr>\n",
       "    <tr>\n",
       "      <th>2</th>\n",
       "      <td>Sat</td>\n",
       "      <td>20.441379</td>\n",
       "    </tr>\n",
       "    <tr>\n",
       "      <th>3</th>\n",
       "      <td>Sun</td>\n",
       "      <td>21.410000</td>\n",
       "    </tr>\n",
       "  </tbody>\n",
       "</table>\n",
       "</div>"
      ],
      "text/plain": [
       "    day  total_bill\n",
       "0  Thur   17.682742\n",
       "1   Fri   17.151579\n",
       "2   Sat   20.441379\n",
       "3   Sun   21.410000"
      ]
     },
     "execution_count": 8,
     "metadata": {},
     "output_type": "execute_result"
    }
   ],
   "source": [
    "#3.2 part 2\n",
    "tips_df.groupby('day', as_index=False)['total_bill'].mean()\n",
    "#interpretaion: It appears that on average Sunday is the day where the highest bill is $21.41"
   ]
  },
  {
   "cell_type": "code",
   "execution_count": 9,
   "id": "66692524",
   "metadata": {},
   "outputs": [
    {
     "data": {
      "text/html": [
       "<div>\n",
       "<style scoped>\n",
       "    .dataframe tbody tr th:only-of-type {\n",
       "        vertical-align: middle;\n",
       "    }\n",
       "\n",
       "    .dataframe tbody tr th {\n",
       "        vertical-align: top;\n",
       "    }\n",
       "\n",
       "    .dataframe thead th {\n",
       "        text-align: right;\n",
       "    }\n",
       "</style>\n",
       "<table border=\"1\" class=\"dataframe\">\n",
       "  <thead>\n",
       "    <tr style=\"text-align: right;\">\n",
       "      <th></th>\n",
       "      <th>time</th>\n",
       "    </tr>\n",
       "  </thead>\n",
       "  <tbody>\n",
       "    <tr>\n",
       "      <th>Dinner</th>\n",
       "      <td>176</td>\n",
       "    </tr>\n",
       "    <tr>\n",
       "      <th>Lunch</th>\n",
       "      <td>68</td>\n",
       "    </tr>\n",
       "  </tbody>\n",
       "</table>\n",
       "</div>"
      ],
      "text/plain": [
       "        time\n",
       "Dinner   176\n",
       "Lunch     68"
      ]
     },
     "execution_count": 9,
     "metadata": {},
     "output_type": "execute_result"
    }
   ],
   "source": [
    "#3.3 part 1\n",
    "#Are there more dinners or lunches? Create a dataframe with this data. Are there more smokers during lunches or dinners?\n",
    "time_counts_df = pd.DataFrame(tips_df['time'].value_counts())\n",
    "time_counts_df\n",
    "\n",
    "#interpretaion: It appears there are more dinners than lunchs"
   ]
  },
  {
   "cell_type": "code",
   "execution_count": 10,
   "id": "40c537cc",
   "metadata": {},
   "outputs": [
    {
     "data": {
      "text/html": [
       "<div>\n",
       "<style scoped>\n",
       "    .dataframe tbody tr th:only-of-type {\n",
       "        vertical-align: middle;\n",
       "    }\n",
       "\n",
       "    .dataframe tbody tr th {\n",
       "        vertical-align: top;\n",
       "    }\n",
       "\n",
       "    .dataframe thead th {\n",
       "        text-align: right;\n",
       "    }\n",
       "</style>\n",
       "<table border=\"1\" class=\"dataframe\">\n",
       "  <thead>\n",
       "    <tr style=\"text-align: right;\">\n",
       "      <th></th>\n",
       "      <th>smoker</th>\n",
       "    </tr>\n",
       "    <tr>\n",
       "      <th>time</th>\n",
       "      <th></th>\n",
       "    </tr>\n",
       "  </thead>\n",
       "  <tbody>\n",
       "    <tr>\n",
       "      <th>Lunch</th>\n",
       "      <td>23</td>\n",
       "    </tr>\n",
       "    <tr>\n",
       "      <th>Dinner</th>\n",
       "      <td>70</td>\n",
       "    </tr>\n",
       "  </tbody>\n",
       "</table>\n",
       "</div>"
      ],
      "text/plain": [
       "        smoker\n",
       "time          \n",
       "Lunch       23\n",
       "Dinner      70"
      ]
     },
     "execution_count": 10,
     "metadata": {},
     "output_type": "execute_result"
    }
   ],
   "source": [
    "#3.3 part 2\n",
    "#Are there more smokers during lunches or dinners?\n",
    "smoker_counts_df = pd.DataFrame(tips_df[tips_df['smoker']=='Yes'].\n",
    "groupby('time')['smoker'].count())\n",
    "smoker_counts_df\n",
    "#interpretaion: Based on the results there are more dinner smokers than there are luch smokers."
   ]
  },
  {
   "cell_type": "code",
   "execution_count": 11,
   "id": "4c0abc65",
   "metadata": {},
   "outputs": [
    {
     "data": {
      "text/html": [
       "<div>\n",
       "<style scoped>\n",
       "    .dataframe tbody tr th:only-of-type {\n",
       "        vertical-align: middle;\n",
       "    }\n",
       "\n",
       "    .dataframe tbody tr th {\n",
       "        vertical-align: top;\n",
       "    }\n",
       "\n",
       "    .dataframe thead th {\n",
       "        text-align: right;\n",
       "    }\n",
       "</style>\n",
       "<table border=\"1\" class=\"dataframe\">\n",
       "  <thead>\n",
       "    <tr style=\"text-align: right;\">\n",
       "      <th></th>\n",
       "      <th>time</th>\n",
       "      <th>smoker</th>\n",
       "    </tr>\n",
       "  </thead>\n",
       "  <tbody>\n",
       "    <tr>\n",
       "      <th>Dinner</th>\n",
       "      <td>176</td>\n",
       "      <td>70</td>\n",
       "    </tr>\n",
       "    <tr>\n",
       "      <th>Lunch</th>\n",
       "      <td>68</td>\n",
       "      <td>23</td>\n",
       "    </tr>\n",
       "  </tbody>\n",
       "</table>\n",
       "</div>"
      ],
      "text/plain": [
       "        time  smoker\n",
       "Dinner   176      70\n",
       "Lunch     68      23"
      ]
     },
     "execution_count": 11,
     "metadata": {},
     "output_type": "execute_result"
    }
   ],
   "source": [
    "common_counts_df = time_counts_df.join(smoker_counts_df)\n",
    "common_counts_df"
   ]
  },
  {
   "cell_type": "code",
   "execution_count": 12,
   "id": "d2e9afca",
   "metadata": {},
   "outputs": [
    {
     "data": {
      "text/html": [
       "<div>\n",
       "<style scoped>\n",
       "    .dataframe tbody tr th:only-of-type {\n",
       "        vertical-align: middle;\n",
       "    }\n",
       "\n",
       "    .dataframe tbody tr th {\n",
       "        vertical-align: top;\n",
       "    }\n",
       "\n",
       "    .dataframe thead th {\n",
       "        text-align: right;\n",
       "    }\n",
       "</style>\n",
       "<table border=\"1\" class=\"dataframe\">\n",
       "  <thead>\n",
       "    <tr style=\"text-align: right;\">\n",
       "      <th></th>\n",
       "      <th>time</th>\n",
       "      <th>smoker</th>\n",
       "      <th>smoker_percent</th>\n",
       "    </tr>\n",
       "  </thead>\n",
       "  <tbody>\n",
       "    <tr>\n",
       "      <th>Dinner</th>\n",
       "      <td>176</td>\n",
       "      <td>70</td>\n",
       "      <td>39.77</td>\n",
       "    </tr>\n",
       "    <tr>\n",
       "      <th>Lunch</th>\n",
       "      <td>68</td>\n",
       "      <td>23</td>\n",
       "      <td>33.82</td>\n",
       "    </tr>\n",
       "  </tbody>\n",
       "</table>\n",
       "</div>"
      ],
      "text/plain": [
       "        time  smoker  smoker_percent\n",
       "Dinner   176      70           39.77\n",
       "Lunch     68      23           33.82"
      ]
     },
     "execution_count": 12,
     "metadata": {},
     "output_type": "execute_result"
    }
   ],
   "source": [
    "#3.3 part 3\n",
    "#Join the two dataframes by time of day and calculate the percent of smokers at lunch and dinner. Compare the results.\n",
    "common_counts_df['smoker_percent'] = round((common_counts_df['smoker']*100)/ common_counts_df['time'],2)\n",
    "common_counts_df"
   ]
  },
  {
   "cell_type": "code",
   "execution_count": null,
   "id": "7741f1e4",
   "metadata": {},
   "outputs": [],
   "source": [
    "#3.3 part 4\n",
    "#interpretaion\n",
    "#Based on our discovery there is a higher percentage of people who smoke more during dinner than lunch."
   ]
  },
  {
   "cell_type": "code",
   "execution_count": 13,
   "id": "bfd59d0c",
   "metadata": {},
   "outputs": [
    {
     "data": {
      "image/png": "[encoded data removed]",
      "text/plain": [
       "<Figure size 576x432 with 1 Axes>"
      ]
     },
     "metadata": {
      "needs_background": "light"
     },
     "output_type": "display_data"
    }
   ],
   "source": [
    "#3.4 part 1 Using the boxplot function from seaborn package, create plots on “tip” column for Male and\n",
    "#Female from “sex” column. Compare the boxplots and provide your interpretation on outliers\n",
    "#between males and females.\n",
    "\n",
    "fig = plt.figure(figsize = (8,6))\n",
    "sns.boxplot(x='sex', y='tip', data=tips_df) # this code line is sufficient\n",
    "plt.show()"
   ]
  },
  {
   "cell_type": "code",
   "execution_count": null,
   "id": "cab149e4",
   "metadata": {},
   "outputs": [],
   "source": [
    "#3.4 part 2\n",
    "#interpretaion\n",
    "#It appears that femles have more of a consistent amount of tipping than men. Where Males a have a higher spread of tipping. This shows that perhaps men tip more than women."
   ]
  },
  {
   "cell_type": "code",
   "execution_count": 14,
   "id": "e086f914",
   "metadata": {},
   "outputs": [
    {
     "data": {
      "text/plain": [
       "<AxesSubplot:xlabel='sex', ylabel='tip_percent'>"
      ]
     },
     "execution_count": 14,
     "metadata": {},
     "output_type": "execute_result"
    },
    {
     "data": {
      "image/png": "[encoded data removed]",
      "text/plain": [
       "<Figure size 432x288 with 1 Axes>"
      ]
     },
     "metadata": {
      "needs_background": "light"
     },
     "output_type": "display_data"
    }
   ],
   "source": [
    "#3.5 part 1\n",
    "sns.boxplot(x='sex', y='tip_percent', data=tips_df[tips_df['tip_percent']<70])"
   ]
  },
  {
   "cell_type": "code",
   "execution_count": null,
   "id": "84571c05",
   "metadata": {},
   "outputs": [],
   "source": [
    "#3.5 part 2\n",
    "#interpretaion\n",
    "#It appers in this case there is more of a normal distribution for men. However,females have more of an outlier in this case."
   ]
  },
  {
   "cell_type": "code",
   "execution_count": 27,
   "id": "82fe33fd",
   "metadata": {},
   "outputs": [
    {
     "name": "stdout",
     "output_type": "stream",
     "text": [
      "             Date  AveragePrice  TotalVolume    Small      Large  AllSizes  \\\n",
      "0      2015-12-27          1.33     64236.62  1036.74   54454.85     48.16   \n",
      "1      2015-12-20          1.35     54876.98   674.28   44638.81     58.33   \n",
      "2      2015-12-13          0.93    118220.22   794.70  109149.67       NaN   \n",
      "3      2015-12-06          1.08     78992.15  1132.00   71976.41     72.58   \n",
      "4      2015-11-29          1.28     51039.60   941.48   43838.39     75.78   \n",
      "...           ...           ...          ...      ...        ...       ...   \n",
      "18244  2018-02-04          1.63     17074.83  2046.96    1529.20      0.00   \n",
      "18245  2018-01-28          1.71     13888.04  1191.70    3431.50      0.00   \n",
      "18246  2018-01-21          1.87     13766.76  1191.92    2452.79    727.94   \n",
      "18247  2018-01-14          1.93     16205.22  1527.63    2981.04    727.01   \n",
      "18248  2018-01-07          1.62     17489.58  2894.77    2356.13    224.53   \n",
      "\n",
      "       TotalBags          Type    Year            Region  \n",
      "0        8696.87  conventional  2015.0            Albany  \n",
      "1        9505.56  conventional     NaN            Albany  \n",
      "2        8145.35  conventional  2015.0            Albany  \n",
      "3        5811.16  conventional  2015.0            Albany  \n",
      "4        6183.95  conventional  2015.0            Albany  \n",
      "...          ...           ...     ...               ...  \n",
      "18244   13498.67       organic  2018.0  WestTexNewMexico  \n",
      "18245    9264.84       organic  2018.0  WestTexNewMexico  \n",
      "18246    9394.11       organic  2018.0  WestTexNewMexico  \n",
      "18247   10969.54       organic  2018.0  WestTexNewMexico  \n",
      "18248   12014.15       organic  2018.0  WestTexNewMexico  \n",
      "\n",
      "[18249 rows x 10 columns]\n"
     ]
    }
   ],
   "source": [
    "\n",
    "#Question 4.1\n",
    "#Import the dataset file into a Pandas dataframe identify the count of missing values per column.Handle missing values based on column type and explain your reasons behind\n",
    "#selecting appropriate techniques.\n",
    "avocado = pd.read_csv(r'C:\\Users\\Abana\\OneDrive\\Documents\\ADS\\ADS500B\\Mod3\\avocado.csv')\n",
    "print (avocado)\n"
   ]
  },
  {
   "cell_type": "code",
   "execution_count": 17,
   "id": "b1f8c51e",
   "metadata": {},
   "outputs": [
    {
     "data": {
      "text/plain": [
       "Date            176\n",
       "AveragePrice    184\n",
       "TotalVolume     192\n",
       "Small           194\n",
       "Large           178\n",
       "AllSizes        184\n",
       "TotalBags       184\n",
       "Type            204\n",
       "Year            196\n",
       "Region          169\n",
       "dtype: int64"
      ]
     },
     "execution_count": 17,
     "metadata": {},
     "output_type": "execute_result"
    }
   ],
   "source": [
    "#Question 4.1part2\n",
    "#identify the count of missing values per column.\n",
    "avocado.isna().sum()"
   ]
  },
  {
   "cell_type": "code",
   "execution_count": 28,
   "id": "06186d27",
   "metadata": {},
   "outputs": [],
   "source": [
    "#Question 4.1 part 3\n",
    "avocado.dropna(subset=['Date','Type','Region'], inplace=True)\n",
    "#Reasoning is because date, type,region are not numerical."
   ]
  },
  {
   "cell_type": "code",
   "execution_count": 21,
   "id": "c7c98524",
   "metadata": {},
   "outputs": [
    {
     "data": {
      "text/plain": [
       "Date              0\n",
       "AveragePrice    176\n",
       "TotalVolume     186\n",
       "Small           188\n",
       "Large           174\n",
       "AllSizes        176\n",
       "TotalBags       174\n",
       "Type              0\n",
       "Year            192\n",
       "Region            0\n",
       "dtype: int64"
      ]
     },
     "execution_count": 21,
     "metadata": {},
     "output_type": "execute_result"
    }
   ],
   "source": [
    "avocado.isna().sum()"
   ]
  },
  {
   "cell_type": "code",
   "execution_count": 29,
   "id": "22d847d6",
   "metadata": {},
   "outputs": [],
   "source": [
    "avocado['Date']= pd.to_datetime(avocado['Date'])"
   ]
  },
  {
   "cell_type": "code",
   "execution_count": 32,
   "id": "9220bbc1",
   "metadata": {},
   "outputs": [],
   "source": [
    "avocado['Year'].fillna(avocado['Date'].dt.year, inplace=True)"
   ]
  },
  {
   "cell_type": "code",
   "execution_count": 36,
   "id": "4f395347",
   "metadata": {},
   "outputs": [
    {
     "data": {
      "text/plain": [
       "Date              0\n",
       "AveragePrice    176\n",
       "TotalVolume     186\n",
       "Small           188\n",
       "Large           174\n",
       "AllSizes        176\n",
       "TotalBags       174\n",
       "Type              0\n",
       "Year              0\n",
       "Region            0\n",
       "dtype: int64"
      ]
     },
     "execution_count": 36,
     "metadata": {},
     "output_type": "execute_result"
    }
   ],
   "source": [
    "avocado.isna().sum()\n"
   ]
  },
  {
   "cell_type": "code",
   "execution_count": 37,
   "id": "c89e5ba8",
   "metadata": {},
   "outputs": [
    {
     "data": {
      "text/html": [
       "<div>\n",
       "<style scoped>\n",
       "    .dataframe tbody tr th:only-of-type {\n",
       "        vertical-align: middle;\n",
       "    }\n",
       "\n",
       "    .dataframe tbody tr th {\n",
       "        vertical-align: top;\n",
       "    }\n",
       "\n",
       "    .dataframe thead th {\n",
       "        text-align: right;\n",
       "    }\n",
       "</style>\n",
       "<table border=\"1\" class=\"dataframe\">\n",
       "  <thead>\n",
       "    <tr style=\"text-align: right;\">\n",
       "      <th></th>\n",
       "      <th>AveragePrice</th>\n",
       "      <th>TotalVolume</th>\n",
       "      <th>Small</th>\n",
       "      <th>Large</th>\n",
       "      <th>AllSizes</th>\n",
       "      <th>TotalBags</th>\n",
       "      <th>Year</th>\n",
       "    </tr>\n",
       "  </thead>\n",
       "  <tbody>\n",
       "    <tr>\n",
       "      <th>count</th>\n",
       "      <td>17528.000000</td>\n",
       "      <td>1.751800e+04</td>\n",
       "      <td>1.751600e+04</td>\n",
       "      <td>1.753000e+04</td>\n",
       "      <td>1.752800e+04</td>\n",
       "      <td>1.753000e+04</td>\n",
       "      <td>17704.000000</td>\n",
       "    </tr>\n",
       "    <tr>\n",
       "      <th>mean</th>\n",
       "      <td>1.405796</td>\n",
       "      <td>8.399542e+05</td>\n",
       "      <td>2.886808e+05</td>\n",
       "      <td>2.906704e+05</td>\n",
       "      <td>2.243454e+04</td>\n",
       "      <td>2.372994e+05</td>\n",
       "      <td>2016.147085</td>\n",
       "    </tr>\n",
       "    <tr>\n",
       "      <th>std</th>\n",
       "      <td>0.402154</td>\n",
       "      <td>3.412748e+06</td>\n",
       "      <td>1.248479e+06</td>\n",
       "      <td>1.185857e+06</td>\n",
       "      <td>1.055681e+05</td>\n",
       "      <td>9.779530e+05</td>\n",
       "      <td>0.939958</td>\n",
       "    </tr>\n",
       "    <tr>\n",
       "      <th>min</th>\n",
       "      <td>0.440000</td>\n",
       "      <td>8.456000e+01</td>\n",
       "      <td>0.000000e+00</td>\n",
       "      <td>0.000000e+00</td>\n",
       "      <td>0.000000e+00</td>\n",
       "      <td>0.000000e+00</td>\n",
       "      <td>2015.000000</td>\n",
       "    </tr>\n",
       "    <tr>\n",
       "      <th>25%</th>\n",
       "      <td>1.100000</td>\n",
       "      <td>1.082740e+04</td>\n",
       "      <td>8.519325e+02</td>\n",
       "      <td>2.999282e+03</td>\n",
       "      <td>0.000000e+00</td>\n",
       "      <td>5.047165e+03</td>\n",
       "      <td>2015.000000</td>\n",
       "    </tr>\n",
       "    <tr>\n",
       "      <th>50%</th>\n",
       "      <td>1.370000</td>\n",
       "      <td>1.070161e+05</td>\n",
       "      <td>8.540210e+03</td>\n",
       "      <td>2.897685e+04</td>\n",
       "      <td>1.828950e+02</td>\n",
       "      <td>3.939211e+04</td>\n",
       "      <td>2016.000000</td>\n",
       "    </tr>\n",
       "    <tr>\n",
       "      <th>75%</th>\n",
       "      <td>1.660000</td>\n",
       "      <td>4.315678e+05</td>\n",
       "      <td>1.100946e+05</td>\n",
       "      <td>1.487283e+05</td>\n",
       "      <td>6.185715e+03</td>\n",
       "      <td>1.106583e+05</td>\n",
       "      <td>2017.000000</td>\n",
       "    </tr>\n",
       "    <tr>\n",
       "      <th>max</th>\n",
       "      <td>3.250000</td>\n",
       "      <td>6.250565e+07</td>\n",
       "      <td>2.274362e+07</td>\n",
       "      <td>2.047057e+07</td>\n",
       "      <td>2.546439e+06</td>\n",
       "      <td>1.937313e+07</td>\n",
       "      <td>2018.000000</td>\n",
       "    </tr>\n",
       "  </tbody>\n",
       "</table>\n",
       "</div>"
      ],
      "text/plain": [
       "       AveragePrice   TotalVolume         Small         Large      AllSizes  \\\n",
       "count  17528.000000  1.751800e+04  1.751600e+04  1.753000e+04  1.752800e+04   \n",
       "mean       1.405796  8.399542e+05  2.886808e+05  2.906704e+05  2.243454e+04   \n",
       "std        0.402154  3.412748e+06  1.248479e+06  1.185857e+06  1.055681e+05   \n",
       "min        0.440000  8.456000e+01  0.000000e+00  0.000000e+00  0.000000e+00   \n",
       "25%        1.100000  1.082740e+04  8.519325e+02  2.999282e+03  0.000000e+00   \n",
       "50%        1.370000  1.070161e+05  8.540210e+03  2.897685e+04  1.828950e+02   \n",
       "75%        1.660000  4.315678e+05  1.100946e+05  1.487283e+05  6.185715e+03   \n",
       "max        3.250000  6.250565e+07  2.274362e+07  2.047057e+07  2.546439e+06   \n",
       "\n",
       "          TotalBags          Year  \n",
       "count  1.753000e+04  17704.000000  \n",
       "mean   2.372994e+05   2016.147085  \n",
       "std    9.779530e+05      0.939958  \n",
       "min    0.000000e+00   2015.000000  \n",
       "25%    5.047165e+03   2015.000000  \n",
       "50%    3.939211e+04   2016.000000  \n",
       "75%    1.106583e+05   2017.000000  \n",
       "max    1.937313e+07   2018.000000  "
      ]
     },
     "execution_count": 37,
     "metadata": {},
     "output_type": "execute_result"
    }
   ],
   "source": [
    "avocado.describe()\n"
   ]
  },
  {
   "cell_type": "code",
   "execution_count": 40,
   "id": "281b2e51",
   "metadata": {},
   "outputs": [],
   "source": [
    "#Since the numerical coulmns are skeweed we'll replace them with the meadian.\n",
    "avocado['AveragePrice'].fillna(avocado['AveragePrice'].median(),inplace=True)\n",
    "avocado['TotalVolume'].fillna(avocado['TotalVolume'].median(),inplace=True)\n",
    "avocado['Small'].fillna(avocado['Small'].median(), inplace=True)\n",
    "avocado['Large'].fillna(avocado['Large'].median(), inplace=True)\n",
    "avocado['AllSizes'].fillna(avocado['AllSizes'].median(), inplace=True)\n",
    "avocado['TotalBags'].fillna(avocado['TotalBags'].median(), inplace=True)"
   ]
  },
  {
   "cell_type": "code",
   "execution_count": 41,
   "id": "cb5afe84",
   "metadata": {},
   "outputs": [
    {
     "data": {
      "text/plain": [
       "Date            0\n",
       "AveragePrice    0\n",
       "TotalVolume     0\n",
       "Small           0\n",
       "Large           0\n",
       "AllSizes        0\n",
       "TotalBags       0\n",
       "Type            0\n",
       "Year            0\n",
       "Region          0\n",
       "dtype: int64"
      ]
     },
     "execution_count": 41,
     "metadata": {},
     "output_type": "execute_result"
    }
   ],
   "source": [
    "#Checking to see if the missing values have been taken care of and as you see they have.\n",
    "avocado.isnull().sum()"
   ]
  },
  {
   "cell_type": "code",
   "execution_count": 42,
   "id": "39531691",
   "metadata": {},
   "outputs": [
    {
     "data": {
      "text/plain": [
       "Date            datetime64[ns]\n",
       "AveragePrice           float64\n",
       "TotalVolume            float64\n",
       "Small                  float64\n",
       "Large                  float64\n",
       "AllSizes               float64\n",
       "TotalBags              float64\n",
       "Type                  category\n",
       "Year                  category\n",
       "Region                category\n",
       "dtype: object"
      ]
     },
     "execution_count": 42,
     "metadata": {},
     "output_type": "execute_result"
    }
   ],
   "source": [
    "#4.2 part 1 Convert the fields Type, Year and Region to categorical data type and subset the dataframe to\n",
    "#exclude regions “West” and “TotalUS”. In addition add a new column “Month” derived from date.Is the mean price of an avocado higher in 2017 compared to\n",
    "#2016?\n",
    "avocado[\"Type\"] = avocado[\"Type\"].astype('category')\n",
    "avocado[\"Year\"] = avocado[\"Year\"].astype('int32'). astype('category')\n",
    "avocado[\"Region\"] = avocado[\"Region\"].astype('category')\n",
    "avocado.dtypes"
   ]
  },
  {
   "cell_type": "code",
   "execution_count": 43,
   "id": "bc011134",
   "metadata": {},
   "outputs": [],
   "source": [
    "#Creating a new column for Month derived from date\n",
    "avocado['Month'] = avocado['Date'].dt.month.astype('category')"
   ]
  },
  {
   "cell_type": "code",
   "execution_count": 44,
   "id": "e34c8582",
   "metadata": {},
   "outputs": [
    {
     "data": {
      "text/html": [
       "<div>\n",
       "<style scoped>\n",
       "    .dataframe tbody tr th:only-of-type {\n",
       "        vertical-align: middle;\n",
       "    }\n",
       "\n",
       "    .dataframe tbody tr th {\n",
       "        vertical-align: top;\n",
       "    }\n",
       "\n",
       "    .dataframe thead th {\n",
       "        text-align: right;\n",
       "    }\n",
       "</style>\n",
       "<table border=\"1\" class=\"dataframe\">\n",
       "  <thead>\n",
       "    <tr style=\"text-align: right;\">\n",
       "      <th></th>\n",
       "      <th>Year</th>\n",
       "      <th>AveragePrice</th>\n",
       "    </tr>\n",
       "  </thead>\n",
       "  <tbody>\n",
       "    <tr>\n",
       "      <th>0</th>\n",
       "      <td>2015</td>\n",
       "      <td>1.376326</td>\n",
       "    </tr>\n",
       "    <tr>\n",
       "      <th>1</th>\n",
       "      <td>2016</td>\n",
       "      <td>1.339204</td>\n",
       "    </tr>\n",
       "    <tr>\n",
       "      <th>2</th>\n",
       "      <td>2017</td>\n",
       "      <td>1.512257</td>\n",
       "    </tr>\n",
       "    <tr>\n",
       "      <th>3</th>\n",
       "      <td>2018</td>\n",
       "      <td>1.346193</td>\n",
       "    </tr>\n",
       "  </tbody>\n",
       "</table>\n",
       "</div>"
      ],
      "text/plain": [
       "   Year  AveragePrice\n",
       "0  2015      1.376326\n",
       "1  2016      1.339204\n",
       "2  2017      1.512257\n",
       "3  2018      1.346193"
      ]
     },
     "execution_count": 44,
     "metadata": {},
     "output_type": "execute_result"
    }
   ],
   "source": [
    "avocado.groupby('Year',as_index=False)['AveragePrice'].mean()"
   ]
  },
  {
   "cell_type": "code",
   "execution_count": null,
   "id": "b6098dcb",
   "metadata": {},
   "outputs": [],
   "source": [
    "# interpretation \n",
    "#It appears that the mean price is higher in 2017 than 2016."
   ]
  },
  {
   "cell_type": "code",
   "execution_count": 47,
   "id": "ee904e4c",
   "metadata": {},
   "outputs": [],
   "source": [
    "avocado = avocado[(avocado['Region'] !='TotalUS')]\n",
    "avocado.reset_index(drop=True, inplace=True)"
   ]
  },
  {
   "cell_type": "code",
   "execution_count": 48,
   "id": "35db8d41",
   "metadata": {},
   "outputs": [
    {
     "data": {
      "image/png": "[encoded data removed]",
      "text/plain": [
       "<Figure size 576x1080 with 1 Axes>"
      ]
     },
     "metadata": {
      "needs_background": "light"
     },
     "output_type": "display_data"
    }
   ],
   "source": [
    "#4.3 part 1 Sum up the total volume of avocado sales by region and create a horizontal bar plot using\n",
    "#Matplotlib. Which state from the region has the highest sales of avocados by volume? Subset the\n",
    "#data for that state, create a histogram of average price and interpret it. Obtain the correlation\n",
    "#index between average price and total volume for that state, what do you find?\n",
    "regvolume_df = avocado.groupby('Region', as_index=False)['TotalVolume'].sum()\n",
    "fig = plt.figure(figsize = (8,15))\n",
    "plt.barh(regvolume_df['Region'], regvolume_df['TotalVolume'])\n",
    "plt.show()"
   ]
  },
  {
   "cell_type": "code",
   "execution_count": null,
   "id": "bc97e218",
   "metadata": {},
   "outputs": [],
   "source": [
    "# interpretation \n",
    "#From the visual we can see that California has the highest sales by volume. "
   ]
  },
  {
   "cell_type": "code",
   "execution_count": 52,
   "id": "a0e03992",
   "metadata": {},
   "outputs": [
    {
     "data": {
      "image/png": "[encoded data removed]",
      "text/plain": [
       "<Figure size 432x288 with 1 Axes>"
      ]
     },
     "metadata": {
      "needs_background": "light"
     },
     "output_type": "display_data"
    }
   ],
   "source": [
    "high_df = avocado[(avocado['Region'] =='California')]\n",
    "fig = plt.figure()\n",
    "plt.hist(high_df['AveragePrice'], bins=20)\n",
    "plt.show()"
   ]
  },
  {
   "cell_type": "code",
   "execution_count": 54,
   "id": "86f9b598",
   "metadata": {},
   "outputs": [
    {
     "data": {
      "text/plain": [
       "-0.7844641606204718"
      ]
     },
     "execution_count": 54,
     "metadata": {},
     "output_type": "execute_result"
    }
   ],
   "source": [
    "#Looking at the correlation between avg price & total volumn\n",
    "high_df['AveragePrice'].corr(high_df['TotalVolume'])"
   ]
  },
  {
   "cell_type": "code",
   "execution_count": null,
   "id": "c1d9e54c",
   "metadata": {},
   "outputs": [],
   "source": [
    "#Interpretation \n",
    "#There is a strong negative correaltion which means as price goes down avocado sales go up in California"
   ]
  },
  {
   "cell_type": "code",
   "execution_count": 55,
   "id": "f8f9c9bb",
   "metadata": {},
   "outputs": [
    {
     "data": {
      "text/plain": [
       "<AxesSubplot:xlabel='Date'>"
      ]
     },
     "execution_count": 55,
     "metadata": {},
     "output_type": "execute_result"
    },
    {
     "data": {
      "image/png": "[encoded data removed]",
      "text/plain": [
       "<Figure size 864x432 with 1 Axes>"
      ]
     },
     "metadata": {
      "needs_background": "light"
     },
     "output_type": "display_data"
    }
   ],
   "source": [
    "#4.4 part 1 Provide your observations of the following timeline plot of avocado sales\n",
    "#by volume. Which month consistently has the highest volume of sales every year? In general, what\n",
    "#could be some possible reasons driving this surge in sales?\n",
    "timeline_df = avocado.groupby('Date')['TotalVolume'].sum()\n",
    "fig = plt.figure(figsize = (12,6))\n",
    "timeline_df.plot()\n"
   ]
  },
  {
   "cell_type": "code",
   "execution_count": null,
   "id": "92a7fe57",
   "metadata": {},
   "outputs": [],
   "source": [
    "#Interpretation \n",
    "The Data shows that the most sales usually occur during the month of February!"
   ]
  }
 ],
 "metadata": {
  "kernelspec": {
   "display_name": "Python 3",
   "language": "python",
   "name": "python3"
  },
  "language_info": {
   "codemirror_mode": {
    "name": "ipython",
    "version": 3
   },
   "file_extension": ".py",
   "mimetype": "text/x-python",
   "name": "python",
   "nbconvert_exporter": "python",
   "pygments_lexer": "ipython3",
   "version": "3.8.8"
  }
 },
 "nbformat": 4,
 "nbformat_minor": 5
}
